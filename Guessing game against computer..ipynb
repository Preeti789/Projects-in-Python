{
 "cells": [
  {
   "cell_type": "code",
   "execution_count": 6,
   "id": "8fdda389",
   "metadata": {},
   "outputs": [
    {
     "name": "stdout",
     "output_type": "stream",
     "text": [
      "Guess a number between 1 and 100: 40\n",
      "Guess higher\n",
      "Guess a number between 1 and 100: 50\n",
      "Guess higher\n",
      "Guess a number between 1 and 100: 60\n",
      "Guess higher\n",
      "Guess a number between 1 and 100: 90\n",
      "Guess lower\n",
      "Guess a number between 1 and 100: 70\n",
      "Guess higher\n",
      "Guess a number between 1 and 100: 80\n",
      "Guess higher\n",
      "Guess a number between 1 and 100: 35\n",
      "Guess higher\n",
      "Guess a number between 1 and 100: 85\n",
      "Guess lower\n",
      "Guess a number between 1 and 100: 84\n",
      "You guessed right! The random number was 84. It took you 9 guesses!\n"
     ]
    }
   ],
   "source": [
    "# Guessing game. The computer generates a random number \n",
    "# that you need to guess. The program counts how many guesses\n",
    "# you took to get the right answer.\n",
    "\n",
    "# import random module\n",
    "import random\n",
    "\n",
    "# define function\n",
    "def guess(x):\n",
    "    \n",
    "    # the random_number is >= 1 and <= x\n",
    "    random_number = random.randint(1, x)\n",
    "    \n",
    "    # initiate value of variable guess\n",
    "    guess = 0\n",
    "    \n",
    "    # set a counter to store number of guesses\n",
    "    count = 0\n",
    "    \n",
    "    # as long as the right number is not guessed \n",
    "    # you need to guess\n",
    "    while guess != random_number:\n",
    "        \n",
    "        # get user's guess as input\n",
    "      guess = int(input(f'Guess a number between 1 and {x}: '))\n",
    "    \n",
    "      # store number of guesses in a variable\n",
    "      count += 1\n",
    "      \n",
    "      # if guessed number is higher\n",
    "      # than random number, give player a clue.\n",
    "      if guess > random_number:\n",
    "        print('Guess lower')\n",
    "      \n",
    "      # if guessed number is lower\n",
    "      # than random number, give player a clue.\n",
    "      else:\n",
    "        if guess < random_number:\n",
    "          print('Guess higher')\n",
    "        \n",
    "      # if player guesses the number, \n",
    "      # give them a message.\n",
    "      if guess == random_number:\n",
    "            print(f'You guessed right! The random number was {random_number}. It took you {count} guesses!')  \n",
    "guess(100) \n"
   ]
  },
  {
   "cell_type": "code",
   "execution_count": null,
   "id": "0238be36",
   "metadata": {},
   "outputs": [],
   "source": []
  },
  {
   "cell_type": "code",
   "execution_count": null,
   "id": "9abc3059",
   "metadata": {},
   "outputs": [],
   "source": [
    "      "
   ]
  },
  {
   "cell_type": "code",
   "execution_count": null,
   "id": "9fd43c0a",
   "metadata": {},
   "outputs": [],
   "source": []
  },
  {
   "cell_type": "code",
   "execution_count": null,
   "id": "29efc844",
   "metadata": {},
   "outputs": [],
   "source": []
  },
  {
   "cell_type": "code",
   "execution_count": null,
   "id": "05e1d285",
   "metadata": {},
   "outputs": [],
   "source": []
  },
  {
   "cell_type": "code",
   "execution_count": null,
   "id": "e47e8788",
   "metadata": {},
   "outputs": [],
   "source": []
  }
 ],
 "metadata": {
  "kernelspec": {
   "display_name": "Python 3",
   "language": "python",
   "name": "python3"
  },
  "language_info": {
   "codemirror_mode": {
    "name": "ipython",
    "version": 3
   },
   "file_extension": ".py",
   "mimetype": "text/x-python",
   "name": "python",
   "nbconvert_exporter": "python",
   "pygments_lexer": "ipython3",
   "version": "3.7.10"
  }
 },
 "nbformat": 4,
 "nbformat_minor": 5
}
